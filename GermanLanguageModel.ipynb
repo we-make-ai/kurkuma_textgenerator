{
 "cells": [
  {
   "cell_type": "code",
   "execution_count": 12,
   "metadata": {},
   "outputs": [],
   "source": [
    "from fastai2.text.all import *"
   ]
  },
  {
   "cell_type": "code",
   "execution_count": 13,
   "metadata": {},
   "outputs": [],
   "source": [
    "BASE = Path(\"./\")\n",
    "MODEL_PATH = BASE/'pretrained_lm'"
   ]
  },
  {
   "cell_type": "code",
   "execution_count": 14,
   "metadata": {},
   "outputs": [],
   "source": [
    "# create raw text files\n",
    "JSON_PATH = BASE/'dataset_dataset-Kurkuma-GoogleSERP'\n",
    "TXT_PATH = BASE/'text_files'\n",
    "#list(JSON_PATH.glob('*.json'))"
   ]
  },
  {
   "cell_type": "code",
   "execution_count": 31,
   "metadata": {
    "scrolled": true
   },
   "outputs": [],
   "source": [
    "import json\n",
    "for file in list(JSON_PATH.glob('*.json')):\n",
    "    jf = json.load(file)\n",
    "    tf = TXT_PATH/(str(file.stem)+'.txt')\n",
    "    tf.write_text(jf['text'])"
   ]
  },
  {
   "cell_type": "code",
   "execution_count": 4,
   "metadata": {},
   "outputs": [],
   "source": [
    "get_kurkuma_files = partial(get_text_files, folders=[str(TXT_PATH)])"
   ]
  },
  {
   "cell_type": "code",
   "execution_count": 5,
   "metadata": {},
   "outputs": [],
   "source": [
    "files = get_kurkuma_files(BASE)"
   ]
  },
  {
   "cell_type": "code",
   "execution_count": 38,
   "metadata": {
    "collapsed": true
   },
   "outputs": [
    {
     "name": "stdout",
     "output_type": "stream",
     "text": [
      "Skip to content\n",
      "\n",
      "Sie haben wahrscheinlich schon einmal von Kurkuma gehört – es ist das Gewürz, das Currys und Senfgelb macht. Möglicherweise haben Sie es sogar als Ergänzung in Ihrem lokalen Naturkostladen gesehen. Dieses Kurkumapulver in Kapseln und Gewürzflaschen stammt aus einer Wurzel, die getrocknet und gemahlen wird. Eine Option, von der Sie wahrscheinlich weniger gehört haben, ist jedoch das ätherische Kurkumaöl. Kurkumaöl ist eine viel stärkere Wahl, wenn es darum geht, dieses Gewürz für verschiedene gesundheitliche Vorteile zu verwenden.\n",
      "\n",
      "Wenn Sie das Gefühl haben, dass Ihr Nervensystem aus dem Gleichgewicht ist oder beruhigt werden muss, fügen Sie Kurkumaöl zu Kokosmilch und Honig hinzu, um ein köstliches Getränk zu erhalten.\n",
      "\n",
      "Die wohltuenden Eigenschaften von Kurkumaöl können genutzt werden, indem man ein bis zwei Tropfen in einer Gemüsekapsel einnimmt. Wenn Sie dies regelmäßig tun, erhält Ihr Körper die antioxidative Unterstützung, die er benötigt, um sich vor Schäden durch freie Radikale zu schützen. Es kann auch eine gesunde Immunfunktion unterstützen.\n",
      "\n",
      "Es ist fast unmöglich, ohne Schwierigkeiten durchs Leben zu gehen, aber wir können die Kontrolle über unsere Emotionen übernehmen. Geben Sie sich selbst einen Schub, indem Sie Kurkuma in Ihrem Haus vernebeln , um sich eine emotional anregende Umgebung zu schaffen und dadurch Ihre Stimmung zu verbessern.\n",
      "\n",
      "Kurkuma hat die Fähigkeit, den gesunden Glukose- und Lipidstoffwechsel zu unterstützen. Um Ihren Stoffwechsel besser zu unterstützen, nehmen Sie ein bis zwei Tropfen Kurkuma mit ausreichend Wasser ein.\n",
      "\n",
      "Dieses würzige Öl ist eigentlich ein wunderbares Öl, das Sie auf Ihrer Haut verwenden können. Passen Sie Ihre Gesichtspflege an, indem Sie vor dem Auftragen einen Tropfen Kurkuma hinzufügen, um eine insgesamt saubere und gesund aussehende Haut zu unterstützen. Kurkuma kann auch als Fleckenbehandlung verwendet werden, um das Auftreten von Unreinheiten auf natürliche Weise zu reduzieren.\n",
      "\n",
      "Nutzen Sie den feinen würzigen und pfeffrigen Geschmack von Kurkuma, indem Sie ein oder zwei Tropfen zu Rühreiern oder Frittaten, einfachem Reis oder Suppen hinzufügen. Sie können es auch zu Gemüse hinzufügen, um einen pfeffrigen Geschmack zu erhalten. Der zusätzliche Vorteil beim Kochen mit Kurkumaöl? Es ermöglicht Ihnen auch, die anderen internen Vorteile von Kurkuma zu nutzen, die wir bereits erwähnt haben.\n",
      "\n",
      "Integrieren Sie Kurkumaöl in Ihre Erholungsroutine nach anstrengender Aktivität für ein beruhigendes Erlebnis. Fügen Sie in Ihrer Handfläche ein paar Tropfen Kurkuma zu fraktioniertem Kokosöl hinzu und massieren Sie es in Ihre Haut, wo Sie am meisten Entlastung benötigen.\n",
      "\n",
      "Die Kurkuma (Curcuma longa) ist eine mehrjährige Blütenpflanze aus der Familie der Ingwergewächse (wissenschaftlich bekannt als die Familie der Zingiberaceae). Die Pflanze selbst wächst nicht wild, aber wo sie angebaut wird, kann sie mehr als einen Meter hoch werden. Sowohl das Öl als auch die Wurzel werden in Asien seit Jahrtausenden in ayurvedischen Gesundheitspraktiken verwendet.\n",
      "\n",
      "Kurkumaöl enthält die chemischen Komponenten Ar-Turmeron und Kurkuma. Beide Komponenten helfen unserem Körper nachweislich bei der Aufnahme von Curcumin, einem starken Antioxidans und der Hauptverbindung, die tatsächlich in der rohen Kurkuma-Wurzel und dem Kurkuma-Extrakt enthalten ist.\n",
      "\n",
      "Die Kurkuma-Landwirtschaft stammt aus verschiedenen Teilen Indiens und Nepals und wird von Männern und Frauen betrieben. Frauen haben in der Regel die Aufgabe, die geernteten Kurkuma-Wurzeln in verschiedene Sorten zu sortieren, ähnlich wie Frauen in Somalia die Harzrisse für Weihrauchöl.\n",
      "\n",
      "Diese Bauern verwenden manchmal Kurkuma-Wurzeln als „Zwischenfrucht“, d.h. sie bauen sie neben Kulturen wie Mais und Zuckerrohr an. Dies bietet den Landwirten zahlreiche Vorteile wie die Möglichkeit eines höheren Einkommens pro Bodeneinheit und eine weitere Versicherung gegen den Ausfall einer Ernte. Es hilft auch, den Boden fruchtbar zu halten, und reduziert Unkraut und Bodenabfluss.\n",
      "\n",
      "Öle, die sich gut mit Kurkuma mischen:\n",
      "\n",
      "Andere Gewürzöle vermischen sich mit Kurkumaöl, einschließlich Zimtrinde, Ingwer und Kardamom. Wild Orange, Grapefruit und Ylang Ylang Ylang sind ebenfalls großartige Mischungsoptionen.\n",
      "\n",
      "Mögliche Hautsensibilität. Außerhalb der Reichweite von Kindern aufbewahren. Wenn Sie schwanger sind, stillen oder unter ärztlicher Aufsicht stehen, konsultieren Sie Ihren Arzt. Vermeiden Sie den Kontakt mit Augen, Innenohren und empfindlichen Stellen.\n",
      "\n",
      "Wie Sie Ihr Kind mit ätherischen Ölen beruhigen können\n"
     ]
    }
   ],
   "source": [
    "print(files[0].open().read())"
   ]
  },
  {
   "cell_type": "code",
   "execution_count": 15,
   "metadata": {},
   "outputs": [],
   "source": [
    "dls_lm = DataBlock(\n",
    "    blocks=TextBlock.from_folder(BASE, is_lm=True),\n",
    "    get_items=get_text_files, splitter=RandomSplitter(0.1)\n",
    ").dataloaders(BASE, path=BASE, bs=64, seq_len=80)"
   ]
  },
  {
   "cell_type": "code",
   "execution_count": 41,
   "metadata": {
    "collapsed": true
   },
   "outputs": [
    {
     "data": {
      "text/html": [
       "<table border=\"1\" class=\"dataframe\">\n",
       "  <thead>\n",
       "    <tr style=\"text-align: right;\">\n",
       "      <th></th>\n",
       "      <th>text</th>\n",
       "      <th>text_</th>\n",
       "    </tr>\n",
       "  </thead>\n",
       "  <tbody>\n",
       "    <tr>\n",
       "      <th>0</th>\n",
       "      <td>xxbos xxmaj der xxmaj wirkstoff ibuprofen - lysinat bringt den betroffenen xxmaj schmerzpatienten eine längere xxmaj schmerzfreiheit . xxmaj dadurch braucht man schließlich auch weniger xxmaj tabletten , um die xxmaj schmerzen ausreichend zu lindern .   xxmaj dabei gehört das ibuprofen - lysinat wie das xxmaj ibuprofen zur xxmaj gruppe der nicht - steroidalen xxmaj entzündungshemmer ( nsar ) mit den bekannten schmerzlindernden , fiebersenkenden und entzündungshemmenden xxmaj eigenschaften . xxmaj dementsprechend sind xxmaj kopfschmerzen ,   xxmaj migräne</td>\n",
       "      <td>xxmaj der xxmaj wirkstoff ibuprofen - lysinat bringt den betroffenen xxmaj schmerzpatienten eine längere xxmaj schmerzfreiheit . xxmaj dadurch braucht man schließlich auch weniger xxmaj tabletten , um die xxmaj schmerzen ausreichend zu lindern .   xxmaj dabei gehört das ibuprofen - lysinat wie das xxmaj ibuprofen zur xxmaj gruppe der nicht - steroidalen xxmaj entzündungshemmer ( nsar ) mit den bekannten schmerzlindernden , fiebersenkenden und entzündungshemmenden xxmaj eigenschaften . xxmaj dementsprechend sind xxmaj kopfschmerzen ,   xxmaj migräne mit</td>\n",
       "    </tr>\n",
       "    <tr>\n",
       "      <th>1</th>\n",
       "      <td>( anzeige ) ist das xxmaj curcumin in sogenannten xxmaj mizellen eingeschlossen . \\n\\n xxmaj mizellen sind bipolar , das heißt auf der einen xxmaj seite wasserlöslich , auf der anderen xxmaj seite fettlöslich . \\n\\n xxmaj das xxmaj curcumin ist dabei innen i m fettlöslichen xxmaj teil der xxmaj mizelle eingeschlossen , gleichzeitig aber nach außen hin wasserlöslich : \\n\\n xxmaj der xxmaj vorteil ist , dass diese xxmaj mizellen einfach durch die xxmaj darmwand passieren können und das</td>\n",
       "      <td>anzeige ) ist das xxmaj curcumin in sogenannten xxmaj mizellen eingeschlossen . \\n\\n xxmaj mizellen sind bipolar , das heißt auf der einen xxmaj seite wasserlöslich , auf der anderen xxmaj seite fettlöslich . \\n\\n xxmaj das xxmaj curcumin ist dabei innen i m fettlöslichen xxmaj teil der xxmaj mizelle eingeschlossen , gleichzeitig aber nach außen hin wasserlöslich : \\n\\n xxmaj der xxmaj vorteil ist , dass diese xxmaj mizellen einfach durch die xxmaj darmwand passieren können und das xxmaj</td>\n",
       "    </tr>\n",
       "    <tr>\n",
       "      <th>2</th>\n",
       "      <td>kühlen xxmaj wasserstrahl abbrausen . \\n\\n xxmaj sanfte xxmaj temperaturen oder ein xxmaj aufenthalt auf der untersten xxmaj saunabank ist dafür schon ausreichend . xxmaj zwei bis drei xxmaj saunagänge und ein xxmaj saunabesuch pro xxmaj woche sind sinnvoll , um vom gesundheitlichen xxmaj nutzen zu profitieren . \\n\\n xxmaj auch von innen lassen sich die xxmaj abwehrkräfte steigern , natürliches xxmaj vitamin c funktioniert da besonders gut . xxmaj kleinkindern und xxmaj kindern bis 13 xxmaj jahren wird eine</td>\n",
       "      <td>xxmaj wasserstrahl abbrausen . \\n\\n xxmaj sanfte xxmaj temperaturen oder ein xxmaj aufenthalt auf der untersten xxmaj saunabank ist dafür schon ausreichend . xxmaj zwei bis drei xxmaj saunagänge und ein xxmaj saunabesuch pro xxmaj woche sind sinnvoll , um vom gesundheitlichen xxmaj nutzen zu profitieren . \\n\\n xxmaj auch von innen lassen sich die xxmaj abwehrkräfte steigern , natürliches xxmaj vitamin c funktioniert da besonders gut . xxmaj kleinkindern und xxmaj kindern bis 13 xxmaj jahren wird eine xxmaj</td>\n",
       "    </tr>\n",
       "    <tr>\n",
       "      <th>3</th>\n",
       "      <td>, britische xxmaj kuchen und andere indische xxmaj süßigkeiten . \\n\\n xxmaj wenn du in xxmaj sri xxmaj lanka warst und keine xxmaj früchte gegessen hast , dann hast du das xxmaj beste verpasst . xxmaj kaum ein xxmaj land hat eine so reiche xxmaj auswahl an xxmaj früchten . xxmaj von vielen wirst du wahrscheinlich noch nicht gehört haben . xxmaj oder kennst du xxmaj woodapple , xxmaj xxunk oder xxmaj soursop ? xxmaj nein ? xxmaj ich kannte</td>\n",
       "      <td>britische xxmaj kuchen und andere indische xxmaj süßigkeiten . \\n\\n xxmaj wenn du in xxmaj sri xxmaj lanka warst und keine xxmaj früchte gegessen hast , dann hast du das xxmaj beste verpasst . xxmaj kaum ein xxmaj land hat eine so reiche xxmaj auswahl an xxmaj früchten . xxmaj von vielen wirst du wahrscheinlich noch nicht gehört haben . xxmaj oder kennst du xxmaj woodapple , xxmaj xxunk oder xxmaj soursop ? xxmaj nein ? xxmaj ich kannte es</td>\n",
       "    </tr>\n",
       "    <tr>\n",
       "      <th>4</th>\n",
       "      <td>als xxmaj heilmittel verwendet . \\n\\n xxmaj und mittlerweile zeigen auch xxmaj studien , warum das ebenfalls xxmaj sinn macht : \\n\\n xxmaj in einer xxmaj studie von 1998 konnte man die xxmaj bioverfügbarkeit von 2 g xxmaj curcumin um 2 . xxrep 3 0 % steigern , wenn man den xxmaj teilnehmern zusätzlich 20 mg xxmaj piperin xxunk \\n\\n xxmaj piperin ist ein xxmaj bestandteil des schwarzen xxmaj pfeffers und 20 mg xxmaj piperin entsprechen ca . ¼ xxmaj</td>\n",
       "      <td>xxmaj heilmittel verwendet . \\n\\n xxmaj und mittlerweile zeigen auch xxmaj studien , warum das ebenfalls xxmaj sinn macht : \\n\\n xxmaj in einer xxmaj studie von 1998 konnte man die xxmaj bioverfügbarkeit von 2 g xxmaj curcumin um 2 . xxrep 3 0 % steigern , wenn man den xxmaj teilnehmern zusätzlich 20 mg xxmaj piperin xxunk \\n\\n xxmaj piperin ist ein xxmaj bestandteil des schwarzen xxmaj pfeffers und 20 mg xxmaj piperin entsprechen ca . ¼ xxmaj teelöffel</td>\n",
       "    </tr>\n",
       "    <tr>\n",
       "      <th>5</th>\n",
       "      <td>, xxmaj zitrusfrüchte und xxmaj hefe . \\n\\n xxmaj xxunk , jede xxmaj menge – auch wenn natürlich kaum einer davon auf deutschen cocktail - karten steht . xxmaj mit der bekannteste ist der xxmaj dark and xxmaj stormy , eine xxmaj erfindung der xxmaj firma xxmaj gosling ’s . xxmaj die vertreiben schwarzen xxmaj rum und xxmaj ginger xxmaj beer – und jetzt xxunk mal , woraus das   cocktail - rezept besteht . xxmaj allerdings dürfen sich tatsächlich</td>\n",
       "      <td>xxmaj zitrusfrüchte und xxmaj hefe . \\n\\n xxmaj xxunk , jede xxmaj menge – auch wenn natürlich kaum einer davon auf deutschen cocktail - karten steht . xxmaj mit der bekannteste ist der xxmaj dark and xxmaj stormy , eine xxmaj erfindung der xxmaj firma xxmaj gosling ’s . xxmaj die vertreiben schwarzen xxmaj rum und xxmaj ginger xxmaj beer – und jetzt xxunk mal , woraus das   cocktail - rezept besteht . xxmaj allerdings dürfen sich tatsächlich nur</td>\n",
       "    </tr>\n",
       "    <tr>\n",
       "      <th>6</th>\n",
       "      <td>i m xxmaj gehirn nicht zu haben . xxmaj nur regelmäßige körperliche und geistige xxmaj aktivitäten regen die xxmaj neubildung von xxmaj gehirnzellen an . xxmaj und immer mehr xxmaj studien weisen nach , dass auch die xxmaj ernährung eine entscheidende xxmaj rolle spielt . xxmaj professor xxmaj dr . xxmaj brant xxmaj cortright vom xxmaj institute of xxmaj integral xxmaj studies , einer privaten xxmaj universität in xxmaj san xxmaj francisco , hat alle verfügbaren xxmaj forschungsergebnisse ausgewertet und</td>\n",
       "      <td>m xxmaj gehirn nicht zu haben . xxmaj nur regelmäßige körperliche und geistige xxmaj aktivitäten regen die xxmaj neubildung von xxmaj gehirnzellen an . xxmaj und immer mehr xxmaj studien weisen nach , dass auch die xxmaj ernährung eine entscheidende xxmaj rolle spielt . xxmaj professor xxmaj dr . xxmaj brant xxmaj cortright vom xxmaj institute of xxmaj integral xxmaj studies , einer privaten xxmaj universität in xxmaj san xxmaj francisco , hat alle verfügbaren xxmaj forschungsergebnisse ausgewertet und die</td>\n",
       "    </tr>\n",
       "    <tr>\n",
       "      <th>7</th>\n",
       "      <td>die xxmaj anwendung etwas aufwändig . xxmaj dafür musst xxmaj du xxmaj deine xxmaj zähne kräftig mit der xxmaj innenseite einer xxmaj bananenschale einreiben , bis diese von einer richtigen xxmaj bananenpaste bedeckt sind . xxmaj danach muss die xxmaj paste 10 xxmaj minuten lang einwirken , was sehr lange ist . xxmaj fazit , grosser xxmaj aufwand , kleine xxmaj wirkung , dafür aber nicht schädlich . \\n\\n xxmaj eine xxmaj mischung aus xxmaj kurkuma und xxmaj kokosöl soll</td>\n",
       "      <td>xxmaj anwendung etwas aufwändig . xxmaj dafür musst xxmaj du xxmaj deine xxmaj zähne kräftig mit der xxmaj innenseite einer xxmaj bananenschale einreiben , bis diese von einer richtigen xxmaj bananenpaste bedeckt sind . xxmaj danach muss die xxmaj paste 10 xxmaj minuten lang einwirken , was sehr lange ist . xxmaj fazit , grosser xxmaj aufwand , kleine xxmaj wirkung , dafür aber nicht schädlich . \\n\\n xxmaj eine xxmaj mischung aus xxmaj kurkuma und xxmaj kokosöl soll weisse</td>\n",
       "    </tr>\n",
       "    <tr>\n",
       "      <th>8</th>\n",
       "      <td>1 xxmaj mio \\n\\n * xxmaj zitat : „ mit der xxmaj vermarktung der xxmaj antidepressiva wurde den ärzten und der öffentlichkeit das xxmaj märchen von der serotonin - mangel xxmaj hypothese ins xxmaj gehirn gewaschen “ \\n\\n * seit 1994 begann die bipolare xxmaj störung modern zu werden , es kam zur diagnose - inflation , jetzt bekommen schon xxmaj kinder die xxup xxunk angehängt \\n\\n * aus xxmaj xxunk und xxmaj marketinggründen xxunk man vor übertreibungen bei der</td>\n",
       "      <td>xxmaj mio \\n\\n * xxmaj zitat : „ mit der xxmaj vermarktung der xxmaj antidepressiva wurde den ärzten und der öffentlichkeit das xxmaj märchen von der serotonin - mangel xxmaj hypothese ins xxmaj gehirn gewaschen “ \\n\\n * seit 1994 begann die bipolare xxmaj störung modern zu werden , es kam zur diagnose - inflation , jetzt bekommen schon xxmaj kinder die xxup xxunk angehängt \\n\\n * aus xxmaj xxunk und xxmaj marketinggründen xxunk man vor übertreibungen bei der xxmaj</td>\n",
       "    </tr>\n",
       "  </tbody>\n",
       "</table>"
      ],
      "text/plain": [
       "<IPython.core.display.HTML object>"
      ]
     },
     "metadata": {},
     "output_type": "display_data"
    }
   ],
   "source": [
    "dls_lm.show_batch()"
   ]
  },
  {
   "cell_type": "code",
   "execution_count": 16,
   "metadata": {},
   "outputs": [],
   "source": [
    "FILE_LM_ENCODER = MODEL_PATH/'30k-pre-ger'\n",
    "FILE_ITOS = MODEL_PATH/'30k-pre-ger-itos'\n",
    "config = awd_lstm_lm_config.copy()\n",
    "config['n_hid'] = 1150"
   ]
  },
  {
   "cell_type": "code",
   "execution_count": 17,
   "metadata": {},
   "outputs": [],
   "source": [
    "learn = language_model_learner(dls_lm, \n",
    "                               AWD_LSTM, \n",
    "                               config=config, \n",
    "                               pretrained_fnames=[FILE_LM_ENCODER, FILE_ITOS],\n",
    "                               drop_mult=0.3,\n",
    "                               metrics=[accuracy, Perplexity()]).to_fp16()"
   ]
  },
  {
   "cell_type": "code",
   "execution_count": 9,
   "metadata": {},
   "outputs": [
    {
     "data": {
      "text/html": [
       "<table border=\"1\" class=\"dataframe\">\n",
       "  <thead>\n",
       "    <tr style=\"text-align: left;\">\n",
       "      <th>epoch</th>\n",
       "      <th>train_loss</th>\n",
       "      <th>valid_loss</th>\n",
       "      <th>accuracy</th>\n",
       "      <th>perplexity</th>\n",
       "      <th>time</th>\n",
       "    </tr>\n",
       "  </thead>\n",
       "  <tbody>\n",
       "    <tr>\n",
       "      <td>0</td>\n",
       "      <td>3.267177</td>\n",
       "      <td>2.959113</td>\n",
       "      <td>0.437075</td>\n",
       "      <td>19.280869</td>\n",
       "      <td>1:05:39</td>\n",
       "    </tr>\n",
       "  </tbody>\n",
       "</table>"
      ],
      "text/plain": [
       "<IPython.core.display.HTML object>"
      ]
     },
     "metadata": {},
     "output_type": "display_data"
    }
   ],
   "source": [
    "learn.fit_one_cycle(1, 2e-2)"
   ]
  },
  {
   "cell_type": "code",
   "execution_count": 10,
   "metadata": {},
   "outputs": [],
   "source": [
    "learn.save('1epoch')"
   ]
  },
  {
   "cell_type": "code",
   "execution_count": 12,
   "metadata": {},
   "outputs": [],
   "source": [
    "learn.freeze_to(-1)"
   ]
  },
  {
   "cell_type": "code",
   "execution_count": 13,
   "metadata": {},
   "outputs": [
    {
     "data": {
      "text/html": [
       "\n",
       "    <div>\n",
       "        <style>\n",
       "            /* Turns off some styling */\n",
       "            progress {\n",
       "                /* gets rid of default border in Firefox and Opera. */\n",
       "                border: none;\n",
       "                /* Needs to be in here for Safari polyfill so background images work as expected. */\n",
       "                background-size: auto;\n",
       "            }\n",
       "            .progress-bar-interrupted, .progress-bar-interrupted::-webkit-progress-bar {\n",
       "                background: #F44336;\n",
       "            }\n",
       "        </style>\n",
       "      <progress value='5' class='' max='6', style='width:300px; height:20px; vertical-align: middle;'></progress>\n",
       "      83.33% [5/6 5:27:16<1:05:27]\n",
       "    </div>\n",
       "    \n",
       "<table border=\"1\" class=\"dataframe\">\n",
       "  <thead>\n",
       "    <tr style=\"text-align: left;\">\n",
       "      <th>epoch</th>\n",
       "      <th>train_loss</th>\n",
       "      <th>valid_loss</th>\n",
       "      <th>accuracy</th>\n",
       "      <th>perplexity</th>\n",
       "      <th>time</th>\n",
       "    </tr>\n",
       "  </thead>\n",
       "  <tbody>\n",
       "    <tr>\n",
       "      <td>0</td>\n",
       "      <td>3.171355</td>\n",
       "      <td>2.931623</td>\n",
       "      <td>0.436947</td>\n",
       "      <td>18.758049</td>\n",
       "      <td>1:05:46</td>\n",
       "    </tr>\n",
       "    <tr>\n",
       "      <td>1</td>\n",
       "      <td>3.133454</td>\n",
       "      <td>2.862837</td>\n",
       "      <td>0.441940</td>\n",
       "      <td>17.511141</td>\n",
       "      <td>1:05:17</td>\n",
       "    </tr>\n",
       "    <tr>\n",
       "      <td>2</td>\n",
       "      <td>2.948828</td>\n",
       "      <td>2.715784</td>\n",
       "      <td>0.461219</td>\n",
       "      <td>15.116462</td>\n",
       "      <td>1:05:29</td>\n",
       "    </tr>\n",
       "    <tr>\n",
       "      <td>3</td>\n",
       "      <td>2.755808</td>\n",
       "      <td>2.549217</td>\n",
       "      <td>0.486193</td>\n",
       "      <td>12.797079</td>\n",
       "      <td>1:05:12</td>\n",
       "    </tr>\n",
       "    <tr>\n",
       "      <td>4</td>\n",
       "      <td>2.633215</td>\n",
       "      <td>2.421087</td>\n",
       "      <td>0.509760</td>\n",
       "      <td>11.258085</td>\n",
       "      <td>1:05:30</td>\n",
       "    </tr>\n",
       "  </tbody>\n",
       "</table><p>\n",
       "\n",
       "    <div>\n",
       "        <style>\n",
       "            /* Turns off some styling */\n",
       "            progress {\n",
       "                /* gets rid of default border in Firefox and Opera. */\n",
       "                border: none;\n",
       "                /* Needs to be in here for Safari polyfill so background images work as expected. */\n",
       "                background-size: auto;\n",
       "            }\n",
       "            .progress-bar-interrupted, .progress-bar-interrupted::-webkit-progress-bar {\n",
       "                background: #F44336;\n",
       "            }\n",
       "        </style>\n",
       "      <progress value='1546' class='' max='1959', style='width:300px; height:20px; vertical-align: middle;'></progress>\n",
       "      78.92% [1546/1959 48:37<12:59 2.6104]\n",
       "    </div>\n",
       "    "
      ],
      "text/plain": [
       "<IPython.core.display.HTML object>"
      ]
     },
     "metadata": {},
     "output_type": "display_data"
    },
    {
     "name": "stderr",
     "output_type": "stream",
     "text": [
      "IOPub message rate exceeded.\n",
      "The notebook server will temporarily stop sending output\n",
      "to the client in order to avoid crashing it.\n",
      "To change this limit, set the config variable\n",
      "`--NotebookApp.iopub_msg_rate_limit`.\n",
      "\n",
      "Current values:\n",
      "NotebookApp.iopub_msg_rate_limit=1000.0 (msgs/sec)\n",
      "NotebookApp.rate_limit_window=3.0 (secs)\n",
      "\n"
     ]
    }
   ],
   "source": [
    "learn.fit_one_cycle(6, 2e-2)"
   ]
  },
  {
   "cell_type": "code",
   "execution_count": 14,
   "metadata": {},
   "outputs": [],
   "source": [
    "learn.save('1epoch-freeze-1-6epochs')"
   ]
  },
  {
   "cell_type": "code",
   "execution_count": 18,
   "metadata": {},
   "outputs": [
    {
     "data": {
      "text/plain": [
       "<fastai2.text.learner.LMLearner at 0x7fa2e2e8fe50>"
      ]
     },
     "execution_count": 18,
     "metadata": {},
     "output_type": "execute_result"
    }
   ],
   "source": [
    "learn.load('1epoch-freeze-1-6epochs')"
   ]
  },
  {
   "cell_type": "code",
   "execution_count": 19,
   "metadata": {},
   "outputs": [],
   "source": [
    "learn.freeze_to(-2)"
   ]
  },
  {
   "cell_type": "code",
   "execution_count": 21,
   "metadata": {},
   "outputs": [
    {
     "data": {
      "text/html": [
       "<table border=\"1\" class=\"dataframe\">\n",
       "  <thead>\n",
       "    <tr style=\"text-align: left;\">\n",
       "      <th>epoch</th>\n",
       "      <th>train_loss</th>\n",
       "      <th>valid_loss</th>\n",
       "      <th>accuracy</th>\n",
       "      <th>perplexity</th>\n",
       "      <th>time</th>\n",
       "    </tr>\n",
       "  </thead>\n",
       "  <tbody>\n",
       "    <tr>\n",
       "      <td>0</td>\n",
       "      <td>2.565369</td>\n",
       "      <td>2.198321</td>\n",
       "      <td>0.539743</td>\n",
       "      <td>9.009874</td>\n",
       "      <td>1:05:56</td>\n",
       "    </tr>\n",
       "    <tr>\n",
       "      <td>1</td>\n",
       "      <td>2.474988</td>\n",
       "      <td>2.167107</td>\n",
       "      <td>0.543921</td>\n",
       "      <td>8.732980</td>\n",
       "      <td>1:06:28</td>\n",
       "    </tr>\n",
       "    <tr>\n",
       "      <td>2</td>\n",
       "      <td>2.485996</td>\n",
       "      <td>2.144728</td>\n",
       "      <td>0.547554</td>\n",
       "      <td>8.539720</td>\n",
       "      <td>1:06:47</td>\n",
       "    </tr>\n",
       "    <tr>\n",
       "      <td>3</td>\n",
       "      <td>2.409091</td>\n",
       "      <td>2.129349</td>\n",
       "      <td>0.550402</td>\n",
       "      <td>8.409387</td>\n",
       "      <td>1:07:48</td>\n",
       "    </tr>\n",
       "    <tr>\n",
       "      <td>4</td>\n",
       "      <td>2.417698</td>\n",
       "      <td>2.122807</td>\n",
       "      <td>0.551509</td>\n",
       "      <td>8.354558</td>\n",
       "      <td>1:06:08</td>\n",
       "    </tr>\n",
       "    <tr>\n",
       "      <td>5</td>\n",
       "      <td>2.392699</td>\n",
       "      <td>2.121427</td>\n",
       "      <td>0.551867</td>\n",
       "      <td>8.343035</td>\n",
       "      <td>1:06:34</td>\n",
       "    </tr>\n",
       "  </tbody>\n",
       "</table>"
      ],
      "text/plain": [
       "<IPython.core.display.HTML object>"
      ]
     },
     "metadata": {},
     "output_type": "display_data"
    },
    {
     "name": "stderr",
     "output_type": "stream",
     "text": [
      "IOPub message rate exceeded.\n",
      "The notebook server will temporarily stop sending output\n",
      "to the client in order to avoid crashing it.\n",
      "To change this limit, set the config variable\n",
      "`--NotebookApp.iopub_msg_rate_limit`.\n",
      "\n",
      "Current values:\n",
      "NotebookApp.iopub_msg_rate_limit=1000.0 (msgs/sec)\n",
      "NotebookApp.rate_limit_window=3.0 (secs)\n",
      "\n"
     ]
    }
   ],
   "source": [
    "learn.fit_one_cycle(6, slice(1e-5, 1e-3))"
   ]
  },
  {
   "cell_type": "code",
   "execution_count": 22,
   "metadata": {},
   "outputs": [],
   "source": [
    "learn.save('1epoch-freeze-2-6epochs')"
   ]
  },
  {
   "cell_type": "code",
   "execution_count": 23,
   "metadata": {},
   "outputs": [
    {
     "data": {
      "text/html": [],
      "text/plain": [
       "<IPython.core.display.HTML object>"
      ]
     },
     "metadata": {},
     "output_type": "display_data"
    },
    {
     "data": {
      "text/html": [],
      "text/plain": [
       "<IPython.core.display.HTML object>"
      ]
     },
     "metadata": {},
     "output_type": "display_data"
    }
   ],
   "source": [
    "TEXT = \"Kurkuma ist für die Gesundheit wichtig, weil\"\n",
    "N_WORDS = 400\n",
    "N_SENTENCES = 2\n",
    "preds = [learn.predict(TEXT, N_WORDS, temperature=0.75) \n",
    "         for _ in range(N_SENTENCES)]"
   ]
  },
  {
   "cell_type": "code",
   "execution_count": 11,
   "metadata": {},
   "outputs": [
    {
     "name": "stdout",
     "output_type": "stream",
     "text": [
      "Kurkuma ist für die Gesundheit wichtig , weil es in vielen Fällen nur stark an Curry erinnert . Denn für viele Menschen ist die Einnahme dieser Ernährung völlig ungefährlich . Die Kurkuma ist auch eine gesunde Alternative zur Kurkuma . Wenn man viel Kurkuma Pulver oder Kurkuma zu sich nimmt , kann man man auch sehr viel Kurkuma aufnehmen . Die Kurkuma hat eine entzündungshemmende Wirkung , und sie wird sogar in einer Kapsel verkauft . Die Gelbwurzel ist sogar ein natürliches Multitalent .   Kurkuma ( curcuma longa ) wird unterschiedliche Wirkungen zugesprochen , wobei es nicht nur eine entzündungshemmende Wirkung hat , sondern auch eine entzündungshemmende Wirkung hat . \n",
      "\n",
      " Curcumin gehört zur Familie der Ingwergewächse und stammt aus Südasien . Die Wurzel wird traditionell als Gewürz in der traditionellen chinesischen und indischen Medizin verwendet . In der fernöstlichen Lehre wird Kurkuma auch als Heilmittel gegen Verdauungsbeschwerden verwendet . Es wird in der Ayurveda - medizin zur Behandlung von Verdauungsstörungen angewendet . Es wirkt antiseptisch und schmerzlindernd . Es lindert Entzündungen , Fieber und Magenbeschwerden . Das Gewürz besitzt seit Jahrhunderten eine blutzuckersenkende Wirkung . Das Heilkraut gilt als eine der Heilpflanzen , die in der westlichen Medizin u.a . eingesetzt werden . Es ist in vielen Lebensmitteln und in Lebensmitteln enthalten , die als Nahrungsergänzungsmittel verwendet werden . Mit diesem Gewürz kann Kurkuma nicht nur die Wurzel , sondern auch Kurkuma und Kurkumin positiv beeinflusst werden . Es besitzt auch antioxidative Eigenschaften und wirkt entzündungshemmend . \n",
      "\n",
      " Kurkuma ist ein Bestandteil von Kurkuma . Es wirkt entzündungshemmend , schmerzstillend und leitet Schwermetalle aus dem Körper aus . Kurkuma senkt den Cholesterinspiegel , senkt den Cholesterinspiegel und verbessert die Spielt in der Leber . Kurkuma lindert Symptome von Reizdarmsyndrom in der Schulmedizin . Es wirkt schmerzstillend und leitet Schwermetalle aus der Pflanze aus . Die Inhaltsstoffe des Gewürzes ( z. B. Chemotherapeutika ) können ebenfalls\n",
      "Kurkuma ist für die Gesundheit wichtig , weil es man sehr schwer schmeckt . Die meisten Menschen lieben Kurkuma , Kurkuma und Kurkuma . Besonders die Kurkuma Pflanze regt den Gallenfluss an . So wirkt auch die Wurzel stark entzündungshemmend . Sie schützt Ihren Körper unter Umständen , indem es die Produktion von Gallensaft anregt . Zur Vorbeugung gegen Reisekrankheit und allergischen Erkrankungen kann Kurkuma verwendet werden . Es gibt verschiedene Formen von Kurkuma - kapseln . Diese können die Symptome von Entzündungen , Entzündungen , Entzündungen , Entzündungen , Pickel und Krankheiten lindern . \n",
      "\n",
      " Zahlreiche Studien haben gezeigt , dass Kurkuma für die Einnahme von Kurkuma verantwortlich ist . Diese Präparate können sowohl in Kapseln als auch in Kapseln dosiert werden . Die Kapseln erhalten Kurkuma Kapseln Kurkuma Kapseln , die regelmäßig in Kapselform angeboten werden . Die Kapseln enthalten eine Kapsel , die der Hersteller für die Anwendung benötigt . \n",
      "\n",
      " Kurkuma ist eines der Wurzelknollen , die auch als Gewürz in den Tropen und Subtropen angebaut werden . Als Gewürz verwendet man Kurkuma . Das Gewürz ist als Gewürz in vielen Gewürzmischungen enthalten und in vielen Bioläden erhältlich . Eine Vielzahl von Inhaltsstoffen wird in der Ayurveda genutzt . In der Ayurvedamedizin gilt Kurkuma als Heilmittel , da es Schmerzen und Entzündungen i m Körper lindert . Zudem wirkt es entzündungshemmend und antibakteriell , hilft deshalb dabei , die Entzündungen der Organe dieser Pflanze zu lindern . In Kurkuma wirkt Kurkuma frisch und kann auch zum Würzen von Speisen verwendet werden . Die gelbe Knolle regt die Durchblutung an . Sie unterstützt die Durchblutung und fördert den Abtransport . I m Gewürzregal gibt es zum Beispiel Kokosfett und Kokosöl . Die Durchblutung wird durch das Einreiben von Ingwer angeregt und die Durchblutung wird gefördert . Die Durchblutung wird so\n"
     ]
    }
   ],
   "source": [
    "print(\"\\n\".join(preds))"
   ]
  },
  {
   "cell_type": "code",
   "execution_count": null,
   "metadata": {},
   "outputs": [],
   "source": []
  },
  {
   "cell_type": "code",
   "execution_count": null,
   "metadata": {},
   "outputs": [],
   "source": []
  },
  {
   "cell_type": "code",
   "execution_count": null,
   "metadata": {},
   "outputs": [],
   "source": []
  },
  {
   "cell_type": "code",
   "execution_count": null,
   "metadata": {},
   "outputs": [],
   "source": []
  },
  {
   "cell_type": "code",
   "execution_count": null,
   "metadata": {},
   "outputs": [],
   "source": []
  },
  {
   "cell_type": "code",
   "execution_count": null,
   "metadata": {},
   "outputs": [],
   "source": []
  },
  {
   "cell_type": "code",
   "execution_count": null,
   "metadata": {},
   "outputs": [],
   "source": []
  },
  {
   "cell_type": "code",
   "execution_count": null,
   "metadata": {},
   "outputs": [],
   "source": []
  },
  {
   "cell_type": "code",
   "execution_count": null,
   "metadata": {},
   "outputs": [],
   "source": []
  },
  {
   "cell_type": "code",
   "execution_count": null,
   "metadata": {},
   "outputs": [],
   "source": []
  },
  {
   "cell_type": "code",
   "execution_count": null,
   "metadata": {},
   "outputs": [],
   "source": []
  },
  {
   "cell_type": "code",
   "execution_count": null,
   "metadata": {},
   "outputs": [],
   "source": []
  },
  {
   "cell_type": "code",
   "execution_count": null,
   "metadata": {},
   "outputs": [],
   "source": []
  },
  {
   "cell_type": "code",
   "execution_count": null,
   "metadata": {},
   "outputs": [],
   "source": []
  }
 ],
 "metadata": {
  "kernelspec": {
   "display_name": "Python 3.7.7 64-bit ('fastai2': conda)",
   "language": "python",
   "name": "python37764bitfastai2conda340d71405c13470b81b70f5e9377003b"
  },
  "language_info": {
   "codemirror_mode": {
    "name": "ipython",
    "version": 3
   },
   "file_extension": ".py",
   "mimetype": "text/x-python",
   "name": "python",
   "nbconvert_exporter": "python",
   "pygments_lexer": "ipython3",
   "version": "3.7.7"
  },
  "toc": {
   "base_numbering": 1,
   "nav_menu": {},
   "number_sections": true,
   "sideBar": true,
   "skip_h1_title": false,
   "title_cell": "Table of Contents",
   "title_sidebar": "Contents",
   "toc_cell": false,
   "toc_position": {},
   "toc_section_display": true,
   "toc_window_display": false
  },
  "varInspector": {
   "cols": {
    "lenName": 16,
    "lenType": 16,
    "lenVar": 40
   },
   "kernels_config": {
    "python": {
     "delete_cmd_postfix": "",
     "delete_cmd_prefix": "del ",
     "library": "var_list.py",
     "varRefreshCmd": "print(var_dic_list())"
    },
    "r": {
     "delete_cmd_postfix": ") ",
     "delete_cmd_prefix": "rm(",
     "library": "var_list.r",
     "varRefreshCmd": "cat(var_dic_list()) "
    }
   },
   "types_to_exclude": [
    "module",
    "function",
    "builtin_function_or_method",
    "instance",
    "_Feature"
   ],
   "window_display": false
  }
 },
 "nbformat": 4,
 "nbformat_minor": 4
}
